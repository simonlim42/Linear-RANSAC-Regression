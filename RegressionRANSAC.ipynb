{
 "cells": [
  {
   "cell_type": "markdown",
   "metadata": {},
   "source": [
    "## Linear Regression and RANSAC"
   ]
  },
  {
   "cell_type": "raw",
   "metadata": {},
   "source": [
    "This example is adapted from: https://scikit-learn.org/stable/auto_examples/linear_model/plot_ransac.html"
   ]
  },
  {
   "cell_type": "code",
   "execution_count": 5,
   "metadata": {},
   "outputs": [],
   "source": [
    "# Load the modules we need\n",
    "import numpy as np\n",
    "from matplotlib import pyplot as plt\n",
    "from sklearn import linear_model, datasets\n",
    "from scipy import stats"
   ]
  },
  {
   "cell_type": "code",
   "execution_count": 6,
   "metadata": {},
   "outputs": [],
   "source": [
    "#  Create some intial data\n",
    "n_samples = 1000\n",
    "\n",
    "X, y = datasets.make_regression(n_samples=n_samples, n_features=1,\n",
    "                                      n_informative=1, noise=10,\n",
    "                                      random_state=0)"
   ]
  },
  {
   "cell_type": "code",
   "execution_count": 7,
   "metadata": {},
   "outputs": [],
   "source": [
    "# Add some outlier data\n",
    "np.random.seed(0)\n",
    "n_outliers = 50\n",
    "X[:n_outliers] = 3 + 0.5 * np.random.normal(size=(n_outliers, 1))\n",
    "y[:n_outliers] = -3 + 10 * np.random.normal(size=n_outliers)"
   ]
  },
  {
   "cell_type": "code",
   "execution_count": 8,
   "metadata": {},
   "outputs": [],
   "source": [
    "# Create some test positions for for the lines we will draw\n",
    "line_X = np.arange(X.min(), X.max())[:, np.newaxis]"
   ]
  },
  {
   "cell_type": "code",
   "execution_count": 9,
   "metadata": {},
   "outputs": [],
   "source": [
    "#linear regression using closed loop form\n",
    "class LinearReg:\n",
    "    \n",
    "    def fit(self, X,y):\n",
    "        test_X= np.ones((X.shape[0],2))\n",
    "        test_X[:,0]=X[:,0]\n",
    "        X=test_X\n",
    "        y=np.reshape(y, (1000, 1))\n",
    "        #using pseudo inverse to find w(gradient and y intercept)\n",
    "        self.w= np.dot(np.linalg.pinv( (np.dot( np.transpose(X) , X )) ) , ( np.dot( np.transpose( X ) , y )))\n",
    "        return self.w\n",
    "    \n",
    "    def predict(self, X):\n",
    "        test_X= np.ones((X.shape[0],2))\n",
    "        test_X[:,0]=X[:,0]\n",
    "        prediction=np.zeros((X.shape[1],X.shape[0]))\n",
    "        for i in range(prediction.shape[1]):\n",
    "            #using w we are able to form a line as a prediction\n",
    "            prediction[:,i] = np.dot(self.w[0],test_X[i][0]) + self.w[1] \n",
    "        prediction=np.reshape(prediction,(8,1))\n",
    "        return prediction\n",
    "    \n",
    "lr = LinearReg()\n",
    "test=lr.fit(X,y)\n",
    "line_y= lr.predict(line_X)"
   ]
  },
  {
   "cell_type": "code",
   "execution_count": 10,
   "metadata": {
    "scrolled": false
   },
   "outputs": [],
   "source": [
    "class RANSACReg:\n",
    "    \n",
    "    def fit(self, X, y):\n",
    "        #threshold chosen through trial and error\n",
    "        threshold=0.3\n",
    "        s=2\n",
    "        N=100\n",
    "        minInliers = 935\n",
    "        self.bestLine = None\n",
    "        mostInliers = 0\n",
    "        for i in range(N):\n",
    "            pool = np.random.choice(X.shape[0], size=s, replace=False)\n",
    "            mc = self.findEqOfLine(X[pool], y[pool])\n",
    "            currentInliers = self.checkInliers(X, y, mc ,threshold)\n",
    "            if currentInliers < minInliers:\n",
    "                continue\n",
    "\n",
    "            elif currentInliers > mostInliers:\n",
    "                self.finalInliers=self.inliers\n",
    "                self.bestLine = mc\n",
    "                mostInliers = currentInliers\n",
    "            \n",
    "        return self.bestLine\n",
    "    \n",
    "    #used to find the y-intercept and gradient of a line from two points\n",
    "    def findEqOfLine(self, X, y):\n",
    "        A= np.ones((X.shape[0],2))\n",
    "        A[:,0]=X[:,0]\n",
    "        mc = np.linalg.lstsq(A, y, rcond=None)[0]\n",
    "        return mc\n",
    "    \n",
    "    #count number of inliers and outliers\n",
    "    def checkInliers(self, X, y, mc, rang):\n",
    "        #mx+c-y=0\n",
    "        A = np.ones((X.shape[0],3))\n",
    "        y = y.reshape((y.shape[0], 1))\n",
    "        #make the y negative\n",
    "        y=y*(-1)\n",
    "        A[:,0]=y[:,0]\n",
    "        A[:,1]=X[:,0]\n",
    "        #used to reshape for multiplication to form ax + by + c\n",
    "        #-a/b is m (gradient)\n",
    "        mc = np.insert(mc, 0, 1)\n",
    "        #distance from point to line equation\n",
    "        dist = np.abs(np.sum(A*mc, axis=1)) / np.sqrt(np.sum(np.square(mc[:-1])))\n",
    "        self.inliers=dist < rang\n",
    "        num=np.count_nonzero(self.inliers == True)\n",
    "        return num\n",
    "    \n",
    "    def getInliers(self):\n",
    "        return self.finalInliers\n",
    "    \n",
    "    #predict a line using the gradient and y-intercept with most inliers\n",
    "    def predict(self, X):\n",
    "        test_X=np.ones((X.shape[0],2))\n",
    "        test_X[:,0]=X[:,0]\n",
    "        prediction=np.zeros((X.shape[1],X.shape[0]))\n",
    "        for i in range(prediction.shape[1]):\n",
    "            prediction[:,i] = np.dot(self.bestLine[0],test_X[i][0]) + self.bestLine[1]\n",
    "        prediction=np.reshape(prediction,(8,1))\n",
    "        return prediction\n",
    "    \n",
    "ransac = RANSACReg()\n",
    "ransac.fit(X,y)\n",
    "line_y_ransac = ransac.predict(line_X)\n",
    "inlier_mask = ransac.getInliers()\n",
    "outlier_mask = np.logical_not(inlier_mask)"
   ]
  },
  {
   "cell_type": "code",
   "execution_count": 11,
   "metadata": {},
   "outputs": [
    {
     "data": {
      "image/png": "[encoded data removed]",
      "text/plain": [
       "<Figure size 432x288 with 1 Axes>"
      ]
     },
     "metadata": {
      "needs_background": "light"
     },
     "output_type": "display_data"
    }
   ],
   "source": [
    "lw = 2\n",
    "\n",
    "doing_linear = True\n",
    "doing_ransac = True\n",
    "\n",
    "if (doing_linear):\n",
    "    plt.plot(line_X, line_y, color='navy', linewidth=lw, label='Linear regressor')\n",
    "\n",
    "if (doing_ransac):\n",
    "    plt.scatter(X[inlier_mask], y[inlier_mask], color='yellowgreen', marker='.', label='Inliers')\n",
    "    plt.scatter(X[outlier_mask], y[outlier_mask], color='gold', marker='.', label='Outliers')\n",
    "    plt.plot(line_X, line_y_ransac, color='cornflowerblue', linewidth=lw, label='RANSAC regressor')\n",
    "else:\n",
    "    plt.scatter(X, y, color='yellowgreen', marker='.', label='Data')\n",
    "    \n",
    "plt.legend(loc='lower right')\n",
    "plt.xlabel(\"Input\")\n",
    "plt.ylabel(\"Response\")\n",
    "plt.show()"
   ]
  }
 ],
 "metadata": {
  "kernelspec": {
   "display_name": "Python 3",
   "language": "python",
   "name": "python3"
  },
  "language_info": {
   "codemirror_mode": {
    "name": "ipython",
    "version": 3
   },
   "file_extension": ".py",
   "mimetype": "text/x-python",
   "name": "python",
   "nbconvert_exporter": "python",
   "pygments_lexer": "ipython3",
   "version": "3.8.5"
  }
 },
 "nbformat": 4,
 "nbformat_minor": 2
}
